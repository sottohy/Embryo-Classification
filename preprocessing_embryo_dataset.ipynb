{
  "nbformat": 4,
  "nbformat_minor": 0,
  "metadata": {
    "colab": {
      "provenance": [],
      "include_colab_link": true
    },
    "kernelspec": {
      "name": "python3",
      "display_name": "Python 3"
    },
    "language_info": {
      "name": "python"
    }
  },
  "cells": [
    {
      "cell_type": "markdown",
      "metadata": {
        "id": "view-in-github",
        "colab_type": "text"
      },
      "source": [
        "<a href=\"https://colab.research.google.com/github/sottohy/Sperm-Embryo-classification-models/blob/main/preprocessing_embryo_dataset.ipynb\" target=\"_parent\"><img src=\"https://colab.research.google.com/assets/colab-badge.svg\" alt=\"Open In Colab\"/></a>"
      ]
    },
    {
      "cell_type": "code",
      "execution_count": null,
      "metadata": {
        "colab": {
          "base_uri": "https://localhost:8080/"
        },
        "id": "3C8uUenzGYB8",
        "outputId": "8a159e1f-9a3f-4f2e-c7ce-5fd286c8f6e4"
      },
      "outputs": [
        {
          "output_type": "stream",
          "name": "stdout",
          "text": [
            "/content/drive/MyDrive/Embryo dataset\n"
          ]
        }
      ],
      "source": [
        "cd/content/drive/MyDrive/Embryo dataset"
      ]
    },
    {
      "cell_type": "code",
      "source": [
        "import os\n",
        "import csv\n",
        "from collections import defaultdict\n",
        "import shutil\n",
        "import random\n",
        "from keras.preprocessing.image import ImageDataGenerator\n",
        "import os"
      ],
      "metadata": {
        "id": "F_mvvUZbHBjs"
      },
      "execution_count": null,
      "outputs": []
    },
    {
      "cell_type": "code",
      "source": [
        "# Define the paths to the folders\n",
        "# ed1 & ed2 -> 0,1 bad | 2,3,4 good\n",
        "# ed3 & ed4 -> 0 bad | 1 good\n",
        "\n",
        "folders = ['data/embryo/ed3', 'data/embryo/ed4']\n",
        "folders2 = ['data/embryo/ed1', 'data/embryo/ed2']\n",
        "data = defaultdict(list)"
      ],
      "metadata": {
        "id": "cTMGHZ7MHHIu"
      },
      "execution_count": null,
      "outputs": []
    },
    {
      "cell_type": "code",
      "source": [
        "# Create good and bad folders in the current directory\n",
        "\n",
        "good_folder = os.path.join(os.getcwd(), 'good')\n",
        "bad_folder = os.path.join(os.getcwd(), 'bad')\n",
        "os.makedirs(good_folder, exist_ok=True)\n",
        "os.makedirs(bad_folder, exist_ok=True)"
      ],
      "metadata": {
        "id": "P3R4U5lWHhe9"
      },
      "execution_count": null,
      "outputs": []
    },
    {
      "cell_type": "code",
      "source": [
        "# ed3 & ed4\n",
        "\n",
        "for folder in folders:\n",
        "    # Extract the folder name from the path\n",
        "    folder_name = os.path.basename(folder)\n",
        "\n",
        "    # Determine the target file name based on the folder (ed3 or ed4)\n",
        "    target_file_name = f\"{folder_name}_target.txt\"\n",
        "    target_file = os.path.join(folder, target_file_name)\n",
        "\n",
        "    # Path to the \"target\" file\n",
        "    target_file = os.path.join(folder, target_file_name)\n",
        "\n",
        "    # Read the target file\n",
        "    with open(target_file, 'r') as file:\n",
        "        for line in file:\n",
        "            # Split the line into path and label\n",
        "            image_path, label = line.strip().split(' ')\n",
        "            label = int(label)\n",
        "\n",
        "            # Copy the image to the corresponding folder\n",
        "            if label == 0:\n",
        "                shutil.copy(image_path, os.path.join(bad_folder, os.path.basename(image_path)))\n",
        "            elif label == 1:\n",
        "                shutil.copy(image_path, os.path.join(good_folder, os.path.basename(image_path)))"
      ],
      "metadata": {
        "id": "XDGojyZAHy9R"
      },
      "execution_count": null,
      "outputs": []
    },
    {
      "cell_type": "code",
      "source": [
        "# ed1 & ed2\n",
        "\n",
        "for folder in folders2:\n",
        "    # Extract the folder name from the path\n",
        "    folder_name = os.path.basename(folder)\n",
        "\n",
        "    # Determine the target file name based on the folder (ed1 or ed2)\n",
        "    target_file_name = f\"{folder_name}_target.txt\"\n",
        "    target_file = os.path.join(folder, target_file_name)\n",
        "\n",
        "    # Path to the \"target\" file\n",
        "    target_file = os.path.join(folder, target_file_name)\n",
        "\n",
        "    # Read the target file\n",
        "    with open(target_file, 'r') as file:\n",
        "        for line in file:\n",
        "            # Split the line into path and label\n",
        "            image_path, label = line.strip().split(' ')\n",
        "            label = int(label)\n",
        "\n",
        "            # Copy the image to the corresponding folder\n",
        "            if label == 0 or label == 1:\n",
        "                shutil.copy(image_path, os.path.join(bad_folder, os.path.basename(image_path)))\n",
        "            elif label == 2 or label == 3 or label == 4:\n",
        "                shutil.copy(image_path, os.path.join(good_folder, os.path.basename(image_path)))"
      ],
      "metadata": {
        "id": "MCgUjHFjJam9"
      },
      "execution_count": null,
      "outputs": []
    },
    {
      "cell_type": "code",
      "source": [
        "# data augmentation\n",
        "\n",
        "from PIL import Image\n",
        "import os\n",
        "\n",
        "# Define the augmentation operations you want to perform\n",
        "def augment_image(image_path, output_path):\n",
        "    with Image.open(image_path) as img:\n",
        "        # Flip horizontally\n",
        "        flipped_img = img.transpose(Image.FLIP_LEFT_RIGHT)\n",
        "        # Rotate by 90 degrees\n",
        "        rotated_img = flipped_img.rotate(90)\n",
        "        # Save the augmented image\n",
        "        rotated_img.save(os.path.join(output_path, f\"augmented_{os.path.basename(image_path)}\"))\n",
        "\n",
        "# Path to the folders\n",
        "folders = ['good', 'bad']\n",
        "for folder_name in folders:\n",
        "    folder_path = os.path.join('/content/drive/MyDrive/Embryo dataset', folder_name)\n",
        "    output_folder = os.path.join('/content/drive/MyDrive/Embryo dataset', folder_name)\n",
        "    for filename in os.listdir(folder_path):\n",
        "        if filename.endswith('.png'):\n",
        "            image_path = os.path.join(folder_path, filename)\n",
        "            augment_image(image_path, output_folder)\n"
      ],
      "metadata": {
        "id": "kaiTVhuhg6Kc"
      },
      "execution_count": null,
      "outputs": []
    },
    {
      "cell_type": "code",
      "source": [
        "print(\"good has\", len(os.listdir('/content/drive/MyDrive/Embryo dataset/good')))\n",
        "print(\"bad has\", len(os.listdir('/content/drive/MyDrive/Embryo dataset/bad')))\n"
      ],
      "metadata": {
        "colab": {
          "base_uri": "https://localhost:8080/"
        },
        "id": "nwMS2xatvAfh",
        "outputId": "7cec9c81-d44d-42d5-94ea-65fe37496c24"
      },
      "execution_count": null,
      "outputs": [
        {
          "output_type": "stream",
          "name": "stdout",
          "text": [
            "good has 1551\n",
            "bad has 1113\n"
          ]
        }
      ]
    },
    {
      "cell_type": "code",
      "source": [
        "# create train, test, good, bad\n",
        "\n",
        "# Define the paths to the 'good' and 'bad' folders\n",
        "good_path = \"good\"\n",
        "bad_path = \"bad\"\n",
        "\n",
        "# Create train and test folders if they don't exist\n",
        "train_path = \"train\"\n",
        "test_path = \"test\"\n",
        "os.makedirs(train_path, exist_ok=True)\n",
        "os.makedirs(test_path, exist_ok=True)\n",
        "\n",
        "# Define the paths to the train and test folders for 'good' and 'bad' images\n",
        "train_good_path = os.path.join(train_path, 'good')\n",
        "test_good_path = os.path.join(test_path, 'good')\n",
        "train_bad_path = os.path.join(train_path, 'bad')\n",
        "test_bad_path = os.path.join(test_path, 'bad')\n",
        "\n",
        "# Create train and test folders for 'good' and 'bad' images\n",
        "os.makedirs(train_good_path, exist_ok=True)\n",
        "os.makedirs(test_good_path, exist_ok=True)\n",
        "os.makedirs(train_bad_path, exist_ok=True)\n",
        "os.makedirs(test_bad_path, exist_ok=True)\n"
      ],
      "metadata": {
        "id": "hZYw-ygwTHkJ"
      },
      "execution_count": null,
      "outputs": []
    },
    {
      "cell_type": "code",
      "source": [
        "# Split ratio 80% train, 20% test\n",
        "split_ratio = 0.8\n",
        "\n",
        "# Function to split images into train and test sets\n",
        "def split_images(source_path, train_dest_path, test_dest_path):\n",
        "    # Get the list of images in the 'good' or 'bad' folder\n",
        "    images = os.listdir(source_path)\n",
        "    # Shuffle the list of images\n",
        "    random.shuffle(images)\n",
        "    # Calculate the split index\n",
        "    split_idx = int(len(images) * split_ratio)\n",
        "    # Split the images into train and test sets\n",
        "    train_images = images[:split_idx]\n",
        "    test_images = images[split_idx:]\n",
        "    # Copy the train images to the train destination folder\n",
        "    for image in train_images:\n",
        "        src = os.path.join(source_path, image)\n",
        "        dst = os.path.join(train_dest_path, image)\n",
        "        shutil.copyfile(src, dst)\n",
        "    # Copy the test images to the test destination folder\n",
        "    for image in test_images:\n",
        "        src = os.path.join(source_path, image)\n",
        "        dst = os.path.join(test_dest_path, image)\n",
        "        shutil.copyfile(src, dst)\n",
        "\n",
        "# Split 'good' images into train and test sets\n",
        "split_images(good_path, train_good_path, test_good_path)\n",
        "# Split 'bad' images into train and test sets\n",
        "split_images(bad_path, train_bad_path, test_bad_path)"
      ],
      "metadata": {
        "id": "SLd1q3yb2i-f"
      },
      "execution_count": null,
      "outputs": []
    }
  ]
}